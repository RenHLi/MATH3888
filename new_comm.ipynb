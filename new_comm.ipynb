{
 "cells": [
  {
   "cell_type": "code",
   "execution_count": 44,
   "metadata": {},
   "outputs": [],
   "source": [
    "# one needs to import those packages which are needed; best to be done at the beginning of the program.\n",
    "import networkx as nx\n",
    "import networkx.algorithms.community as nx_comm\n",
    "import numpy as np\n",
    "import pandas as pd\n",
    "import scipy as sp\n",
    "import random as rn\n",
    "\n",
    "# some basic settings for plotting figures\n",
    "import matplotlib.pyplot as plt\n",
    "%matplotlib inline \n",
    "font = {'family' : 'DejaVu Sans',\n",
    "        'weight' : 'bold',\n",
    "        'size'   : 32}\n",
    "\n",
    "plt.rc('font', **font)\n",
    "import community as community_louvain"
   ]
  },
  {
   "cell_type": "code",
   "execution_count": 45,
   "metadata": {},
   "outputs": [],
   "source": [
    "G0 = nx.read_weighted_edgelist(\"4932.protein.links.v11.5.txt\",comments=\"#\",nodetype=str)"
   ]
  },
  {
   "cell_type": "code",
   "execution_count": 46,
   "metadata": {},
   "outputs": [],
   "source": [
    "threshold_score = 400\n",
    "for edge in G0.edges: \n",
    "    weight = list(G0.get_edge_data(edge[0],edge[1]).values())\n",
    "    if(weight[0] <= threshold_score):\n",
    "        G0.remove_edge(edge[0],edge[1])"
   ]
  },
  {
   "cell_type": "code",
   "execution_count": 47,
   "metadata": {},
   "outputs": [
    {
     "name": "stdout",
     "output_type": "stream",
     "text": [
      "number of nodes of G0: 6394\n",
      "number of edges of G0: 282074\n"
     ]
    }
   ],
   "source": [
    "#number of nodes of network\n",
    "print('number of nodes of G0:',G0.number_of_nodes())\n",
    "\n",
    "#number of edges of network\n",
    "print('number of edges of G0:',G0.number_of_edges())"
   ]
  },
  {
   "cell_type": "code",
   "execution_count": 48,
   "metadata": {},
   "outputs": [
    {
     "name": "stdout",
     "output_type": "stream",
     "text": [
      "Is the full G0 connected? False\n",
      "How many connected subgraphs are there? 282\n"
     ]
    }
   ],
   "source": [
    "print('Is the full G0 connected?',nx.connected.is_connected(G0))\n",
    "print('How many connected subgraphs are there?',nx.connected.number_connected_components(G0))"
   ]
  },
  {
   "cell_type": "code",
   "execution_count": 49,
   "metadata": {},
   "outputs": [
    {
     "name": "stdout",
     "output_type": "stream",
     "text": [
      "Type <class 'set'>\n",
      "number of nodes of largest connected subgraph of G: 6113\n",
      "number of edges of largest connected subgraph of G0: 282074\n"
     ]
    }
   ],
   "source": [
    "#get the largest component\n",
    "largest_cc = max(nx.connected_components(G0),key=len)\n",
    "G = G0.subgraph(largest_cc)\n",
    "print('Type',type(largest_cc))\n",
    "print('number of nodes of largest connected subgraph of G:',G.number_of_nodes())\n",
    "print('number of edges of largest connected subgraph of G0:',G.number_of_edges())"
   ]
  },
  {
   "cell_type": "code",
   "execution_count": 50,
   "metadata": {},
   "outputs": [],
   "source": [
    "ess=pd.read_csv(\"essential_pro.csv\",header=None)"
   ]
  },
  {
   "cell_type": "code",
   "execution_count": 51,
   "metadata": {},
   "outputs": [],
   "source": [
    "ess_pro=pd.Series.to_list(ess[1])"
   ]
  },
  {
   "cell_type": "code",
   "execution_count": 52,
   "metadata": {},
   "outputs": [],
   "source": [
    "for i in range(len(ess_pro)):\n",
    "    ess_pro[i]='4932.'+ess_pro[i]"
   ]
  },
  {
   "cell_type": "code",
   "execution_count": 53,
   "metadata": {},
   "outputs": [],
   "source": [
    "#ess_pro"
   ]
  },
  {
   "cell_type": "code",
   "execution_count": 54,
   "metadata": {},
   "outputs": [],
   "source": [
    "G0.remove_nodes_from(ess_pro)"
   ]
  },
  {
   "cell_type": "code",
   "execution_count": 55,
   "metadata": {},
   "outputs": [
    {
     "name": "stdout",
     "output_type": "stream",
     "text": [
      "number of nodes of G0: 5098\n",
      "number of edges of G0: 137012\n"
     ]
    }
   ],
   "source": [
    "#number of nodes of network\n",
    "print('number of nodes of G0:',G0.number_of_nodes())\n",
    "\n",
    "#number of edges of network\n",
    "print('number of edges of G0:',G0.number_of_edges())"
   ]
  },
  {
   "cell_type": "code",
   "execution_count": 56,
   "metadata": {},
   "outputs": [],
   "source": [
    "nodes = nx.shortest_path(G0,'4932.YKL126W').keys()"
   ]
  },
  {
   "cell_type": "code",
   "execution_count": 57,
   "metadata": {},
   "outputs": [],
   "source": [
    "G=G0.subgraph(nodes)"
   ]
  },
  {
   "cell_type": "code",
   "execution_count": 58,
   "metadata": {},
   "outputs": [
    {
     "name": "stdout",
     "output_type": "stream",
     "text": [
      "number of nodes of G: 4827\n",
      "number of edges of G: 137012\n"
     ]
    }
   ],
   "source": [
    "#number of nodes of network\n",
    "print('number of nodes of G:',G.number_of_nodes())\n",
    "\n",
    "#number of edges of network\n",
    "print('number of edges of G:',G.number_of_edges())"
   ]
  },
  {
   "cell_type": "code",
   "execution_count": null,
   "metadata": {},
   "outputs": [],
   "source": [
    "# constants\n",
    "R = 50\n",
    "N = 10"
   ]
  },
  {
   "cell_type": "code",
   "execution_count": null,
   "metadata": {},
   "outputs": [],
   "source": [
    "# time to define a parent class of network\n",
    "class Network:\n",
    "\n",
    "    def __init__(self, graph, homologue, centrality_method, partition_method=\"louvain\"):\n",
    "        self.graph = graph\n",
    "        self.homologue = homologue\n",
    "        self.partition_method = partition_method\n",
    "        self.partitions = []\n",
    "        self.homologue_communities = []\n",
    "        # TODO: self.adjacent_communtieis = []\n",
    "        self.centrality_method = centrality_method\n",
    "        self.central_nodes = [] # { encoding : centrality }\n",
    "\n",
    "    def get_partition(self, s):\n",
    "        if self.partition_method == \"louvain\":\n",
    "            return nx_comm.louvain_communities(self.graph, resolution=R, seed=s)\n",
    "        # ...\n",
    "    \n",
    "    def find_partions_robust(self):\n",
    "        for i in range(N):\n",
    "            self.partition.append(self.get_partition(rn.seed(i)))\n",
    "        # TODO: retrieve self.homologue_communities\n",
    " \n",
    "    def central_nodes(self, i):\n",
    "        if self.centrality_method == \"degree\":\n",
    "            return nx.degree_centrality(self.homologue_communities[i])\n",
    "        elif self.centrality_method == \"betweenness\":\n",
    "            return nx.betweenness_centrality(self.homologue_communities[i])\n",
    "        elif self.centrality_method == \"eigenvector\":\n",
    "            return nx.eigenvector_centrality(self.homologue_communities[i])\n",
    "\n",
    "    def get_central_nodes_robust(self):\n",
    "        for i in range(N):\n",
    "            self.central_nodes.append(self.central_nodes(i))\n",
    "        # TODO: decide how to cross reference the results"
   ]
  },
  {
   "cell_type": "code",
   "execution_count": 59,
   "metadata": {},
   "outputs": [
    {
     "name": "stdout",
     "output_type": "stream",
     "text": [
      "# of partitions for Louvain modularity = 11\n"
     ]
    }
   ],
   "source": [
    "partLouvain = community_louvain.best_partition(G)\n",
    "number_of_communities = max(partLouvain.values())+1 #We add one because the indexing starts at 0.\n",
    "print('# of partitions for Louvain modularity =',number_of_communities)"
   ]
  },
  {
   "cell_type": "code",
   "execution_count": 60,
   "metadata": {},
   "outputs": [
    {
     "data": {
      "text/plain": [
       "0.5430213963298715"
      ]
     },
     "execution_count": 60,
     "metadata": {},
     "output_type": "execute_result"
    }
   ],
   "source": [
    "community_louvain.modularity(partLouvain, G)"
   ]
  },
  {
   "cell_type": "code",
   "execution_count": 61,
   "metadata": {},
   "outputs": [],
   "source": [
    "def community_collector(comm):\n",
    "    number_of_communities = max(comm.values())+1\n",
    "    communities = {} #empty dictionary\n",
    "    for i in range(number_of_communities):\n",
    "        communities[i] = [] #create an empty list for each community\n",
    "\n",
    "    for name, community in comm.items():\n",
    "        communities[community].append(name) \n",
    "    return communities"
   ]
  },
  {
   "cell_type": "code",
   "execution_count": 62,
   "metadata": {},
   "outputs": [
    {
     "name": "stdout",
     "output_type": "stream",
     "text": [
      "The size of community # 0 is  151\n",
      "The size of community # 1 is  814\n",
      "The size of community # 2 is  280\n",
      "The size of community # 3 is  671\n",
      "The size of community # 4 is  299\n",
      "The size of community # 5 is  414\n",
      "The size of community # 6 is  1070\n",
      "The size of community # 7 is  68\n",
      "The size of community # 8 is  643\n",
      "The size of community # 9 is  403\n",
      "The size of community # 10 is  14\n"
     ]
    }
   ],
   "source": [
    "# Let's construct a dictionary object called 'communities'. The keys will be the community labels and the values \n",
    "# will be a list of nodes in that community. The more experienced python users among you will probably see an \n",
    "# easier/faster way to do this.\n",
    "\n",
    "communities = community_collector(partLouvain)\n",
    "    \n",
    "\n",
    "# The dictionary we have constructed is similar to what the output of the Louvain algorithm in NetworkX would be. \n",
    "# In your own investigations you can decide what is more useful.\n",
    "\n",
    "#Now let's find out how big each community is. You could accomplish this in the following way:\n",
    "for k in communities:\n",
    "    print('The size of community #', list(communities.keys())[k], 'is ',len(communities[k]))"
   ]
  },
  {
   "cell_type": "code",
   "execution_count": 63,
   "metadata": {},
   "outputs": [],
   "source": [
    "index_1=partLouvain['4932.YKL126W']"
   ]
  },
  {
   "cell_type": "code",
   "execution_count": 64,
   "metadata": {},
   "outputs": [],
   "source": [
    "sub_1=G.subgraph(communities[index_1])"
   ]
  },
  {
   "cell_type": "code",
   "execution_count": 65,
   "metadata": {},
   "outputs": [
    {
     "data": {
      "text/plain": [
       "1070"
      ]
     },
     "execution_count": 65,
     "metadata": {},
     "output_type": "execute_result"
    }
   ],
   "source": [
    "len(sub_1.nodes)"
   ]
  },
  {
   "cell_type": "code",
   "execution_count": 66,
   "metadata": {},
   "outputs": [],
   "source": [
    "def max_keys(dict):\n",
    "    max_value=max(dict.values())\n",
    "    return [k for k,v in dict.items() if v == max_value]"
   ]
  },
  {
   "cell_type": "code",
   "execution_count": 67,
   "metadata": {},
   "outputs": [],
   "source": [
    "def max_key_value(dict):\n",
    "   key=max_keys(dict)[0]\n",
    "   return dict[key]"
   ]
  },
  {
   "cell_type": "code",
   "execution_count": 68,
   "metadata": {},
   "outputs": [],
   "source": [
    "deg_cen=nx.degree_centrality(sub_1)\n",
    "bet_cen = nx.betweenness_centrality(sub_1)\n",
    "eig_cen = nx.eigenvector_centrality(sub_1)"
   ]
  },
  {
   "cell_type": "code",
   "execution_count": 69,
   "metadata": {},
   "outputs": [],
   "source": [
    "central_dict={\"Degree cen\":(max_keys(deg_cen),max_key_value(deg_cen)),\"Betweeness cen\":(max_keys(bet_cen),max_key_value(bet_cen)),\"Eigenvector cen\":(max_keys(eig_cen),max_key_value(eig_cen))}"
   ]
  },
  {
   "cell_type": "code",
   "execution_count": 70,
   "metadata": {},
   "outputs": [
    {
     "data": {
      "text/plain": [
       "{'Degree cen': (['4932.YHR030C'], 0.15715622076707203),\n",
       " 'Betweeness cen': (['4932.YHR030C'], 0.024232868111066726),\n",
       " 'Eigenvector cen': (['4932.YHR030C'], 0.13984431493055566)}"
      ]
     },
     "execution_count": 70,
     "metadata": {},
     "output_type": "execute_result"
    }
   ],
   "source": [
    "central_dict"
   ]
  },
  {
   "cell_type": "code",
   "execution_count": 71,
   "metadata": {},
   "outputs": [],
   "source": [
    "dendrogram = community_louvain.generate_dendrogram(G)\n",
    "# for level in range(1,len(dendrogram) - 1) :\n",
    "#      print(\"partition at level\", level, \"is\", community_louvain.partition_at_level(dendrogram, level))  # NOQA"
   ]
  },
  {
   "cell_type": "code",
   "execution_count": 72,
   "metadata": {},
   "outputs": [
    {
     "name": "stdout",
     "output_type": "stream",
     "text": [
      "The size of community # 0 is  23\n",
      "The size of community # 1 is  5\n",
      "The size of community # 2 is  13\n",
      "The size of community # 3 is  4\n",
      "The size of community # 4 is  13\n",
      "The size of community # 5 is  132\n",
      "The size of community # 6 is  13\n",
      "The size of community # 7 is  8\n",
      "The size of community # 8 is  426\n",
      "The size of community # 9 is  20\n",
      "The size of community # 10 is  9\n",
      "The size of community # 11 is  9\n",
      "The size of community # 12 is  4\n",
      "The size of community # 13 is  22\n",
      "The size of community # 14 is  8\n",
      "The size of community # 15 is  108\n",
      "The size of community # 16 is  17\n",
      "The size of community # 17 is  7\n",
      "The size of community # 18 is  20\n",
      "The size of community # 19 is  7\n",
      "The size of community # 20 is  6\n",
      "The size of community # 21 is  48\n",
      "The size of community # 22 is  5\n",
      "The size of community # 23 is  5\n",
      "The size of community # 24 is  11\n",
      "The size of community # 25 is  5\n",
      "The size of community # 26 is  558\n",
      "The size of community # 27 is  359\n",
      "The size of community # 28 is  4\n",
      "The size of community # 29 is  6\n",
      "The size of community # 30 is  71\n",
      "The size of community # 31 is  6\n",
      "The size of community # 32 is  6\n",
      "The size of community # 33 is  5\n",
      "The size of community # 34 is  81\n",
      "The size of community # 35 is  2\n",
      "The size of community # 36 is  11\n",
      "The size of community # 37 is  343\n",
      "The size of community # 38 is  15\n",
      "The size of community # 39 is  8\n",
      "The size of community # 40 is  142\n",
      "The size of community # 41 is  78\n",
      "The size of community # 42 is  33\n",
      "The size of community # 43 is  61\n",
      "The size of community # 44 is  4\n",
      "The size of community # 45 is  5\n",
      "The size of community # 46 is  3\n",
      "The size of community # 47 is  2\n",
      "The size of community # 48 is  3\n",
      "The size of community # 49 is  19\n",
      "The size of community # 50 is  13\n",
      "The size of community # 51 is  2\n",
      "The size of community # 52 is  39\n",
      "The size of community # 53 is  20\n",
      "The size of community # 54 is  15\n",
      "The size of community # 55 is  11\n",
      "The size of community # 56 is  8\n",
      "The size of community # 57 is  305\n",
      "The size of community # 58 is  350\n",
      "The size of community # 59 is  48\n",
      "The size of community # 60 is  63\n",
      "The size of community # 61 is  122\n",
      "The size of community # 62 is  4\n",
      "The size of community # 63 is  2\n",
      "The size of community # 64 is  41\n",
      "The size of community # 65 is  12\n",
      "The size of community # 66 is  29\n",
      "The size of community # 67 is  9\n",
      "The size of community # 68 is  15\n",
      "The size of community # 69 is  24\n",
      "The size of community # 70 is  3\n",
      "The size of community # 71 is  4\n",
      "The size of community # 72 is  16\n",
      "The size of community # 73 is  62\n",
      "The size of community # 74 is  25\n",
      "The size of community # 75 is  49\n",
      "The size of community # 76 is  7\n",
      "The size of community # 77 is  3\n",
      "The size of community # 78 is  18\n",
      "The size of community # 79 is  30\n",
      "The size of community # 80 is  3\n",
      "The size of community # 81 is  36\n",
      "The size of community # 82 is  3\n",
      "The size of community # 83 is  6\n",
      "The size of community # 84 is  4\n",
      "The size of community # 85 is  6\n",
      "The size of community # 86 is  7\n",
      "The size of community # 87 is  16\n",
      "The size of community # 88 is  5\n",
      "The size of community # 89 is  441\n",
      "The size of community # 90 is  2\n",
      "The size of community # 91 is  4\n",
      "The size of community # 92 is  11\n",
      "The size of community # 93 is  32\n",
      "The size of community # 94 is  39\n",
      "The size of community # 95 is  19\n",
      "The size of community # 96 is  44\n",
      "The size of community # 97 is  18\n",
      "The size of community # 98 is  9\n"
     ]
    }
   ],
   "source": [
    "\n",
    "# Let's construct a dictionary object called 'communities'. The keys will be the community labels and the values \n",
    "# will be a list of nodes in that community. The more experienced python users among you will probably see an \n",
    "# easier/faster way to do this.\n",
    "\n",
    "communities = community_collector(community_louvain.partition_at_level(dendrogram, 0))\n",
    "    \n",
    "\n",
    "# The dictionary we have constructed is similar to what the output of the Louvain algorithm in NetworkX would be. \n",
    "# In your own investigations you can decide what is more useful.\n",
    "\n",
    "#Now let's find out how big each community is. You could accomplish this in the following way:\n",
    "for k in communities:\n",
    "    print('The size of community #', list(communities.keys())[k], 'is ',len(communities[k]))"
   ]
  },
  {
   "cell_type": "code",
   "execution_count": 73,
   "metadata": {},
   "outputs": [],
   "source": [
    "index_1=community_louvain.partition_at_level(dendrogram, 0)['4932.YKL126W']"
   ]
  },
  {
   "cell_type": "code",
   "execution_count": 74,
   "metadata": {},
   "outputs": [
    {
     "data": {
      "text/plain": [
       "558"
      ]
     },
     "execution_count": 74,
     "metadata": {},
     "output_type": "execute_result"
    }
   ],
   "source": [
    "len(communities[index_1])"
   ]
  },
  {
   "cell_type": "code",
   "execution_count": 75,
   "metadata": {},
   "outputs": [],
   "source": [
    "aa=nx_comm.louvain_partitions(G, weight='weight', resolution=2)"
   ]
  },
  {
   "cell_type": "code",
   "execution_count": 76,
   "metadata": {},
   "outputs": [
    {
     "data": {
      "text/plain": [
       "<generator object louvain_partitions at 0x000001BDA66A7AE0>"
      ]
     },
     "execution_count": 76,
     "metadata": {},
     "output_type": "execute_result"
    }
   ],
   "source": [
    "aa"
   ]
  },
  {
   "cell_type": "code",
   "execution_count": 77,
   "metadata": {},
   "outputs": [
    {
     "data": {
      "text/plain": [
       "63"
      ]
     },
     "execution_count": 77,
     "metadata": {},
     "output_type": "execute_result"
    }
   ],
   "source": [
    "nxLouvain=nx_comm.louvain_communities(G, resolution=5)\n",
    "len(nxLouvain)"
   ]
  },
  {
   "cell_type": "code",
   "execution_count": 78,
   "metadata": {},
   "outputs": [],
   "source": [
    "idx='x'\n",
    "for i in range(len(nxLouvain)):\n",
    "    #print('Community', i, 'has', len(nxLouvain[i]), 'nodes.')\n",
    "    if '4932.YKL126W' in nxLouvain[i]:\n",
    "        idx=i"
   ]
  },
  {
   "cell_type": "code",
   "execution_count": 79,
   "metadata": {},
   "outputs": [
    {
     "data": {
      "text/plain": [
       "37"
      ]
     },
     "execution_count": 79,
     "metadata": {},
     "output_type": "execute_result"
    }
   ],
   "source": [
    "idx"
   ]
  },
  {
   "cell_type": "code",
   "execution_count": 80,
   "metadata": {},
   "outputs": [
    {
     "data": {
      "text/plain": [
       "50"
      ]
     },
     "execution_count": 80,
     "metadata": {},
     "output_type": "execute_result"
    }
   ],
   "source": [
    "len(nxLouvain[idx])"
   ]
  },
  {
   "cell_type": "code",
   "execution_count": 81,
   "metadata": {},
   "outputs": [],
   "source": [
    "sub1=G.subgraph(nxLouvain[idx])"
   ]
  },
  {
   "cell_type": "code",
   "execution_count": 82,
   "metadata": {},
   "outputs": [],
   "source": [
    "deg_cen=nx.degree_centrality(sub1)\n",
    "bet_cen = nx.betweenness_centrality(sub1)\n",
    "eig_cen = nx.eigenvector_centrality(sub1)"
   ]
  },
  {
   "cell_type": "code",
   "execution_count": 87,
   "metadata": {},
   "outputs": [
    {
     "ename": "TypeError",
     "evalue": "'by' is an invalid keyword argument for sort()",
     "output_type": "error",
     "traceback": [
      "\u001b[1;31m---------------------------------------------------------------------------\u001b[0m",
      "\u001b[1;31mTypeError\u001b[0m                                 Traceback (most recent call last)",
      "\u001b[1;32mc:\\Users\\lihao\\Ren Li\\3rd year\\MATH3888\\MATH3888\\new_comm.ipynb Cell 40\u001b[0m in \u001b[0;36m<module>\u001b[1;34m\u001b[0m\n\u001b[1;32m----> <a href='vscode-notebook-cell:/c%3A/Users/lihao/Ren%20Li/3rd%20year/MATH3888/MATH3888/new_comm.ipynb#X61sZmlsZQ%3D%3D?line=0'>1</a>\u001b[0m \u001b[39msorted\u001b[39;49m(deg_cen,by\u001b[39m=\u001b[39;49mdeg_cen\u001b[39m.\u001b[39;49mvalues())\n",
      "\u001b[1;31mTypeError\u001b[0m: 'by' is an invalid keyword argument for sort()"
     ]
    }
   ],
   "source": [
    "sorted(deg_cen)"
   ]
  },
  {
   "cell_type": "code",
   "execution_count": 83,
   "metadata": {},
   "outputs": [],
   "source": [
    "central_dict={\"Degree cen\":(max_keys(deg_cen),max_key_value(deg_cen)),\n",
    "\"Betweeness cen\":(max_keys(bet_cen),max_key_value(bet_cen)),\"Eigenvector cen\":(max_keys(eig_cen),max_key_value(eig_cen))}"
   ]
  },
  {
   "cell_type": "code",
   "execution_count": 84,
   "metadata": {},
   "outputs": [
    {
     "data": {
      "text/plain": [
       "{'Degree cen': (['4932.YJR066W'], 0.5510204081632653),\n",
       " 'Betweeness cen': (['4932.YGR086C'], 0.22915778778192306),\n",
       " 'Eigenvector cen': (['4932.YJR066W'], 0.28304958112739714)}"
      ]
     },
     "execution_count": 84,
     "metadata": {},
     "output_type": "execute_result"
    }
   ],
   "source": [
    "central_dict"
   ]
  },
  {
   "cell_type": "code",
   "execution_count": 91,
   "metadata": {},
   "outputs": [
    {
     "data": {
      "text/plain": [
       "[('4932.YJR066W', 0.5510204081632653),\n",
       " ('4932.YML121W', 0.44897959183673464),\n",
       " ('4932.YGR163W', 0.44897959183673464),\n",
       " ('4932.YHR205W', 0.42857142857142855),\n",
       " ('4932.YCR027C', 0.3877551020408163)]"
      ]
     },
     "execution_count": 91,
     "metadata": {},
     "output_type": "execute_result"
    }
   ],
   "source": [
    "sorted(deg_cen.items(), key=lambda item: item[1],reverse=True)[0:5]"
   ]
  },
  {
   "cell_type": "code",
   "execution_count": 92,
   "metadata": {},
   "outputs": [
    {
     "data": {
      "text/plain": [
       "[('4932.YGR086C', 0.22915778778192306),\n",
       " ('4932.YCR027C', 0.15342685832806954),\n",
       " ('4932.YDR032C', 0.15306122448979592),\n",
       " ('4932.YDR490C', 0.1289983992309011),\n",
       " ('4932.YJR066W', 0.1258085684848829)]"
      ]
     },
     "execution_count": 92,
     "metadata": {},
     "output_type": "execute_result"
    }
   ],
   "source": [
    "sorted(bet_cen.items(), key=lambda item: item[1],reverse=True)[0:5]"
   ]
  },
  {
   "cell_type": "code",
   "execution_count": 93,
   "metadata": {},
   "outputs": [
    {
     "data": {
      "text/plain": [
       "[('4932.YJR066W', 0.28304958112739714),\n",
       " ('4932.YML121W', 0.2702305501599234),\n",
       " ('4932.YGR163W', 0.2702305501599234),\n",
       " ('4932.YKR007W', 0.23357059299548372),\n",
       " ('4932.YEL062W', 0.22767153758638944)]"
      ]
     },
     "execution_count": 93,
     "metadata": {},
     "output_type": "execute_result"
    }
   ],
   "source": [
    "sorted(eig_cen.items(), key=lambda item: item[1],reverse=True)[0:5]"
   ]
  }
 ],
 "metadata": {
  "kernelspec": {
   "display_name": "Python 3.10.0 ('new_py')",
   "language": "python",
   "name": "python3"
  },
  "language_info": {
   "codemirror_mode": {
    "name": "ipython",
    "version": 3
   },
   "file_extension": ".py",
   "mimetype": "text/x-python",
   "name": "python",
   "nbconvert_exporter": "python",
   "pygments_lexer": "ipython3",
   "version": "3.10.0"
  },
  "orig_nbformat": 4,
  "vscode": {
   "interpreter": {
    "hash": "365b9593587ed276fd5de7239365279e1225f9b1cb83484bb61ff6345923309a"
   }
  }
 },
 "nbformat": 4,
 "nbformat_minor": 2
}
