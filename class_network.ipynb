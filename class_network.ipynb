{
 "cells": [
  {
   "cell_type": "code",
   "execution_count": 2,
   "metadata": {},
   "outputs": [],
   "source": [
    "# one needs to import those packages which are needed; best to be done at the beginning of the program.\n",
    "import networkx as nx\n",
    "import networkx.algorithms.community as nx_comm\n",
    "import numpy as np\n",
    "import pandas as pd\n",
    "import scipy as sp\n",
    "import random as rn\n",
    "from heapq import nlargest\n",
    "\n",
    "# some basic settings for plotting figures\n",
    "import matplotlib.pyplot as plt\n",
    "%matplotlib inline \n",
    "font = {'family' : 'DejaVu Sans',\n",
    "        'weight' : 'bold',\n",
    "        'size'   : 32}\n",
    "\n",
    "plt.rc('font', **font)\n",
    "import community as community_louvain"
   ]
  },
  {
   "cell_type": "code",
   "execution_count": 3,
   "metadata": {},
   "outputs": [],
   "source": [
    "G0 = nx.read_weighted_edgelist(\"4932.protein.links.v11.5.txt\",comments=\"#\",nodetype=str)"
   ]
  },
  {
   "cell_type": "code",
   "execution_count": 4,
   "metadata": {},
   "outputs": [],
   "source": [
    "threshold_score = 400\n",
    "for edge in G0.edges: \n",
    "    weight = list(G0.get_edge_data(edge[0],edge[1]).values())\n",
    "    if(weight[0] <= threshold_score):\n",
    "        G0.remove_edge(edge[0],edge[1])"
   ]
  },
  {
   "cell_type": "code",
   "execution_count": 5,
   "metadata": {},
   "outputs": [
    {
     "name": "stdout",
     "output_type": "stream",
     "text": [
      "number of nodes of G0: 6394\n",
      "number of edges of G0: 282074\n"
     ]
    }
   ],
   "source": [
    "# some basic information\n",
    "print('number of nodes of G0:',G0.number_of_nodes())\n",
    "print('number of edges of G0:',G0.number_of_edges())\n",
    "print('Is the full G0 connected?',nx.connected.is_connected(G0))\n",
    "print('How many connected subgraphs are there?',nx.connected.number_connected_components(G0))"
   ]
  },
  {
   "cell_type": "code",
   "execution_count": 7,
   "metadata": {},
   "outputs": [
    {
     "name": "stdout",
     "output_type": "stream",
     "text": [
      "Type <class 'set'>\n",
      "number of nodes of largest connected subgraph of G: 6113\n",
      "number of edges of largest connected subgraph of G0: 282074\n"
     ]
    }
   ],
   "source": [
    "#get the largest component\n",
    "largest_cc = max(nx.connected_components(G0),key=len)\n",
    "G = G0.subgraph(largest_cc)\n",
    "print('Type',type(largest_cc))\n",
    "print('number of nodes of largest connected subgraph of G:',G.number_of_nodes())\n",
    "print('number of edges of largest connected subgraph of G0:',G.number_of_edges())"
   ]
  },
  {
   "cell_type": "code",
   "execution_count": 8,
   "metadata": {},
   "outputs": [],
   "source": [
    "# remove the essential nodes from G0\n",
    "ess=pd.read_csv(\"essential_pro.csv\",header=None)\n",
    "ess_pro=pd.Series.to_list(ess[1])\n",
    "for i in range(len(ess_pro)):\n",
    "    ess_pro[i]='4932.'+ess_pro[i]\n",
    "G0.remove_nodes_from(ess_pro)"
   ]
  },
  {
   "cell_type": "code",
   "execution_count": 12,
   "metadata": {},
   "outputs": [
    {
     "name": "stdout",
     "output_type": "stream",
     "text": [
      "number of nodes of G0: 5098\n",
      "number of edges of G0: 137012\n"
     ]
    }
   ],
   "source": [
    "# new information\n",
    "print('number of nodes of G0 without essential nodes:',G0.number_of_nodes())\n",
    "print('number of edges of G0 without essential nodes:',G0.number_of_edges())"
   ]
  },
  {
   "cell_type": "code",
   "execution_count": 14,
   "metadata": {},
   "outputs": [],
   "source": [
    "# narrow our selection to the proteins connected to ours\n",
    "nodes = nx.shortest_path(G0,'4932.YKL126W').keys()\n",
    "G=G0.subgraph(nodes)"
   ]
  },
  {
   "cell_type": "code",
   "execution_count": 15,
   "metadata": {},
   "outputs": [
    {
     "name": "stdout",
     "output_type": "stream",
     "text": [
      "number of nodes of G: 4827\n",
      "number of edges of G: 137012\n"
     ]
    }
   ],
   "source": [
    "# some basic information #3\n",
    "print('number of nodes of G:',G.number_of_nodes())\n",
    "print('number of edges of G:',G.number_of_edges())"
   ]
  },
  {
   "cell_type": "code",
   "execution_count": 4,
   "metadata": {},
   "outputs": [],
   "source": [
    "# time to define a parent class of network\n",
    "class Network:\n",
    "    R = 50\n",
    "    N = 10\n",
    "\n",
    "    def __init__(self, graph, homologue, partition_method=\"louvain\"):\n",
    "        self.graph = graph\n",
    "        self.homologue = homologue\n",
    "        self.partition_method = partition_method\n",
    "\n",
    "        self.partitions = []\n",
    "        self.homologue_communities = []\n",
    "        self.central_nodes = [] # { encoding : centrality }\n",
    "        self.important_nodes = {}\n",
    "        # TODO: self.adjacent_communities = []\n",
    "\n",
    "        self.set_partitions_robust()\n",
    "        self.set_homologue_communities()\n",
    "        self.set_central_nodes_robust()\n",
    "        self.set_important_nodes()\n",
    "\n",
    "    # def community_collector(self,comm):\n",
    "    #     number_of_communities = max(comm.values())+1\n",
    "    #     communities = {} #empty dictionary\n",
    "    #     for i in range(number_of_communities):\n",
    "    #         communities[i] = [] #create an empty list for each community\n",
    "    #     for name, community in comm.items():\n",
    "    #         communities[community].append(name) \n",
    "    #     return communities\n",
    "\n",
    "    def set_partitions_robust(self):\n",
    "        def find_partition(graph, partition_method, s):\n",
    "            if partition_method == \"louvain\":\n",
    "                return nx_comm.louvain_communities(\n",
    "                    graph, resolution=Network.R, seed=s)\n",
    "\n",
    "        for i in range(Network.N):\n",
    "            self.partitions.append(self.find_partition(\n",
    "                self.graph, self.partition_method, i))\n",
    "\n",
    "    def set_homologue_communities(self):\n",
    "        for part in self.partitions:\n",
    "            for i in range(len(part)):\n",
    "                if self.homologue in part[i]:\n",
    "                    sub = G.subgraph(part[i])\n",
    "                    self.homologue_communities.append(sub)\n",
    "                    break\n",
    "\n",
    "    def set_central_nodes_robust(self):\n",
    "        def find_central_nodes(community):\n",
    "            \"\"\"return a list of the most significant nodes according to three centrality measures\"\"\"\n",
    "            a= nx.degree_centrality(community)\n",
    "            b= nx.betweenness_centrality(community)\n",
    "            c= nx.eigenvector_centrality(community)\n",
    "            a5=nlargest(5, a, key = a.get)\n",
    "            b5=nlargest(5, b, key = b.get)\n",
    "            c5=nlargest(5, c, key = c.get)\n",
    "            return list({*a5,*b5,*c5})\n",
    "\n",
    "        for i in range(Network.N):\n",
    "            self.central_nodes.append(\n",
    "                self.find_central_nodes(self.homologue_communities[i]))\n",
    "        # TODO: decide how to cross reference the results\n",
    "\n",
    "    def set_important_nodes(self):\n",
    "        # flatten the central nodes list\n",
    "        flat_central_nodes = [y for x in self.central_nodes for y in x]\n",
    "        for node in flat_central_nodes:\n",
    "            if node not in self.important_nodes:\n",
    "                self.important_nodes[node]=flat_central_nodes.count(node)\n",
    "\n",
    "    def get_partitions(self):\n",
    "        return self.partitions\n",
    "\n",
    "    def get_homologue_communities(self):\n",
    "        return self.homologue_communities\n",
    "\n",
    "    def get_central_nodes(self):\n",
    "        return self.central_nodes\n",
    "    \n",
    "    def get_important_nodes(self):\n",
    "        return self.important_nodes"
   ]
  },
  {
   "cell_type": "code",
   "execution_count": 18,
   "metadata": {},
   "outputs": [],
   "source": [
    "protein=Network(G,homologue='4932.YKL126W')"
   ]
  },
  {
   "cell_type": "code",
   "execution_count": 19,
   "metadata": {},
   "outputs": [
    {
     "data": {
      "text/plain": [
       "{'4932.YIL105C': 5,\n",
       " '4932.YMR068W': 8,\n",
       " '4932.YMR104C': 8,\n",
       " '4932.YKL126W': 10,\n",
       " '4932.YBR270C': 8,\n",
       " '4932.YJL058C': 8,\n",
       " '4932.YNL047C': 3,\n",
       " '4932.YMR102C': 1,\n",
       " '4932.YKL128C': 1,\n",
       " '4932.YMR103C': 1,\n",
       " '4932.YMR101C': 1,\n",
       " '4932.YBR013C': 1,\n",
       " '4932.YDR466W': 1,\n",
       " '4932.YBR028C': 1,\n",
       " '4932.YDL037C': 1,\n",
       " '4932.YDL039C': 1}"
      ]
     },
     "execution_count": 19,
     "metadata": {},
     "output_type": "execute_result"
    }
   ],
   "source": [
    "protein.get_important_nodes()"
   ]
  }
 ],
 "metadata": {
  "kernelspec": {
   "display_name": "Python 3.6.9 64-bit",
   "language": "python",
   "name": "python3"
  },
  "language_info": {
   "codemirror_mode": {
    "name": "ipython",
    "version": 3
   },
   "file_extension": ".py",
   "mimetype": "text/x-python",
   "name": "python",
   "nbconvert_exporter": "python",
   "pygments_lexer": "ipython3",
   "version": "3.6.9"
  },
  "orig_nbformat": 4,
  "vscode": {
   "interpreter": {
    "hash": "767d51c1340bd893661ea55ea3124f6de3c7a262a8b4abca0554b478b1e2ff90"
   }
  }
 },
 "nbformat": 4,
 "nbformat_minor": 2
}
